{
 "cells": [
  {
   "cell_type": "code",
   "execution_count": 1,
   "id": "1eb9100b",
   "metadata": {},
   "outputs": [
    {
     "name": "stdout",
     "output_type": "stream",
     "text": [
      "[[7, 6, 5], [3, 4], [1, 2]]\n",
      "[[7, 6, 5], [4, 3], [1, 2]]\n",
      "[[7, 6, 5], [4, 3], [2, 1]]\n"
     ]
    }
   ],
   "source": [
    "l = [[1,2],[3,4],[5,6,7]]\n",
    "l = l [::-1]\n",
    "\n",
    "for i in range(len(l)):\n",
    "    (l[i]) = (l[i])[::-1]\n",
    "    print(l)"
   ]
  }
 ],
 "metadata": {
  "kernelspec": {
   "display_name": "Python 3 (ipykernel)",
   "language": "python",
   "name": "python3"
  },
  "language_info": {
   "codemirror_mode": {
    "name": "ipython",
    "version": 3
   },
   "file_extension": ".py",
   "mimetype": "text/x-python",
   "name": "python",
   "nbconvert_exporter": "python",
   "pygments_lexer": "ipython3",
   "version": "3.10.6"
  }
 },
 "nbformat": 4,
 "nbformat_minor": 5
}
